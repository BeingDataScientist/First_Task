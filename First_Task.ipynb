{
  "nbformat": 4,
  "nbformat_minor": 0,
  "metadata": {
    "colab": {
      "name": "First_Task.ipynb",
      "provenance": [],
      "collapsed_sections": [],
      "mount_file_id": "1Wew2sx1TfRUo1tszwPvS35qHSwx2dLRR",
      "authorship_tag": "ABX9TyPlToKFHjHIDMnoB/a8GfcC"
    },
    "kernelspec": {
      "name": "python3",
      "display_name": "Python 3"
    },
    "language_info": {
      "name": "python"
    }
  },
  "cells": [
    {
      "cell_type": "markdown",
      "metadata": {
        "id": "fc7BfSPfKVwc"
      },
      "source": [
        "**Author : Munde Omkesh Bhivajirao**\n",
        "**Task1 :- Prediction Using Supervised Machine Learning**\n",
        "**GRIP @ The Spark Foundation**\n",
        "\n",
        "I have used Linear Regression Algorithm. \n",
        "\n",
        "The Given dataset having two features in which using hours feature i am predict the scores of student.\n",
        "\n",
        "Following libraries I have used"
      ]
    },
    {
      "cell_type": "code",
      "metadata": {
        "id": "SobYi608KKKX"
      },
      "source": [
        "import numpy as np\n",
        "import pandas as pd\n",
        "import matplotlib.pyplot as plt\n",
        "from sklearn.linear_model import LinearRegression\n",
        "from sklearn.model_selection import train_test_split\n",
        "import warnings\n",
        "warnings.filterwarnings('ignore')"
      ],
      "execution_count": null,
      "outputs": []
    },
    {
      "cell_type": "markdown",
      "metadata": {
        "id": "P3NbDSnRU5iO"
      },
      "source": [
        "First I read data using pandas library"
      ]
    },
    {
      "cell_type": "code",
      "metadata": {
        "colab": {
          "base_uri": "https://localhost:8080/",
          "height": 197
        },
        "id": "ZQhjYdPpLw-Z",
        "outputId": "dfaed8a9-d6d4-4a8d-ed15-171248f186f9"
      },
      "source": [
        "df=pd.read_csv(r\"/content/drive/My Drive/Colab Notebooks/Spark_Task1_data.csv\")# Path of your data\n",
        "df.head() # Here head displays first 5 values\n"
      ],
      "execution_count": null,
      "outputs": [
        {
          "output_type": "execute_result",
          "data": {
            "text/html": [
              "<div>\n",
              "<style scoped>\n",
              "    .dataframe tbody tr th:only-of-type {\n",
              "        vertical-align: middle;\n",
              "    }\n",
              "\n",
              "    .dataframe tbody tr th {\n",
              "        vertical-align: top;\n",
              "    }\n",
              "\n",
              "    .dataframe thead th {\n",
              "        text-align: right;\n",
              "    }\n",
              "</style>\n",
              "<table border=\"1\" class=\"dataframe\">\n",
              "  <thead>\n",
              "    <tr style=\"text-align: right;\">\n",
              "      <th></th>\n",
              "      <th>Hours</th>\n",
              "      <th>Scores</th>\n",
              "    </tr>\n",
              "  </thead>\n",
              "  <tbody>\n",
              "    <tr>\n",
              "      <th>0</th>\n",
              "      <td>2.5</td>\n",
              "      <td>21</td>\n",
              "    </tr>\n",
              "    <tr>\n",
              "      <th>1</th>\n",
              "      <td>5.1</td>\n",
              "      <td>47</td>\n",
              "    </tr>\n",
              "    <tr>\n",
              "      <th>2</th>\n",
              "      <td>3.2</td>\n",
              "      <td>27</td>\n",
              "    </tr>\n",
              "    <tr>\n",
              "      <th>3</th>\n",
              "      <td>8.5</td>\n",
              "      <td>75</td>\n",
              "    </tr>\n",
              "    <tr>\n",
              "      <th>4</th>\n",
              "      <td>3.5</td>\n",
              "      <td>30</td>\n",
              "    </tr>\n",
              "  </tbody>\n",
              "</table>\n",
              "</div>"
            ],
            "text/plain": [
              "   Hours  Scores\n",
              "0    2.5      21\n",
              "1    5.1      47\n",
              "2    3.2      27\n",
              "3    8.5      75\n",
              "4    3.5      30"
            ]
          },
          "metadata": {
            "tags": []
          },
          "execution_count": 46
        }
      ]
    },
    {
      "cell_type": "markdown",
      "metadata": {
        "id": "2O4D_VrWXkIw"
      },
      "source": [
        "Now I visualise the data to see the relationship of variables."
      ]
    },
    {
      "cell_type": "code",
      "metadata": {
        "colab": {
          "base_uri": "https://localhost:8080/",
          "height": 294
        },
        "id": "c-mN3DJ2X5Hl",
        "outputId": "fa02892c-3da5-4bf4-e4a1-7693a34da13b"
      },
      "source": [
        "df.plot(x='Hours', y='Scores', style='o')  \n",
        "plt.title('Hours vs Percentage')  #title of paragraph\n",
        "plt.xlabel('Hours Studied')  #label x axis\n",
        "plt.ylabel('Percentage Score')  #label y axis\n",
        "plt.show() "
      ],
      "execution_count": null,
      "outputs": [
        {
          "output_type": "display_data",
          "data": {
            "image/png": "[encoded data removed]",
            "text/plain": [
              "<Figure size 432x288 with 1 Axes>"
            ]
          },
          "metadata": {
            "tags": [],
            "needs_background": "light"
          }
        }
      ]
    },
    {
      "cell_type": "markdown",
      "metadata": {
        "id": "M_6EUxJGau0D"
      },
      "source": [
        "Here in graph I can see. The number of hours studied and percentage of score are having positive relation."
      ]
    },
    {
      "cell_type": "code",
      "metadata": {
        "colab": {
          "base_uri": "https://localhost:8080/",
          "height": 287
        },
        "id": "JlXZIre0mtq6",
        "outputId": "6a5516af-f36e-44fc-a17e-2eca294b25f0"
      },
      "source": [
        "df.describe()#Now I am checking the statistics of datasets"
      ],
      "execution_count": null,
      "outputs": [
        {
          "output_type": "execute_result",
          "data": {
            "text/html": [
              "<div>\n",
              "<style scoped>\n",
              "    .dataframe tbody tr th:only-of-type {\n",
              "        vertical-align: middle;\n",
              "    }\n",
              "\n",
              "    .dataframe tbody tr th {\n",
              "        vertical-align: top;\n",
              "    }\n",
              "\n",
              "    .dataframe thead th {\n",
              "        text-align: right;\n",
              "    }\n",
              "</style>\n",
              "<table border=\"1\" class=\"dataframe\">\n",
              "  <thead>\n",
              "    <tr style=\"text-align: right;\">\n",
              "      <th></th>\n",
              "      <th>Hours</th>\n",
              "      <th>Scores</th>\n",
              "    </tr>\n",
              "  </thead>\n",
              "  <tbody>\n",
              "    <tr>\n",
              "      <th>count</th>\n",
              "      <td>25.000000</td>\n",
              "      <td>25.000000</td>\n",
              "    </tr>\n",
              "    <tr>\n",
              "      <th>mean</th>\n",
              "      <td>5.012000</td>\n",
              "      <td>51.480000</td>\n",
              "    </tr>\n",
              "    <tr>\n",
              "      <th>std</th>\n",
              "      <td>2.525094</td>\n",
              "      <td>25.286887</td>\n",
              "    </tr>\n",
              "    <tr>\n",
              "      <th>min</th>\n",
              "      <td>1.100000</td>\n",
              "      <td>17.000000</td>\n",
              "    </tr>\n",
              "    <tr>\n",
              "      <th>25%</th>\n",
              "      <td>2.700000</td>\n",
              "      <td>30.000000</td>\n",
              "    </tr>\n",
              "    <tr>\n",
              "      <th>50%</th>\n",
              "      <td>4.800000</td>\n",
              "      <td>47.000000</td>\n",
              "    </tr>\n",
              "    <tr>\n",
              "      <th>75%</th>\n",
              "      <td>7.400000</td>\n",
              "      <td>75.000000</td>\n",
              "    </tr>\n",
              "    <tr>\n",
              "      <th>max</th>\n",
              "      <td>9.200000</td>\n",
              "      <td>95.000000</td>\n",
              "    </tr>\n",
              "  </tbody>\n",
              "</table>\n",
              "</div>"
            ],
            "text/plain": [
              "           Hours     Scores\n",
              "count  25.000000  25.000000\n",
              "mean    5.012000  51.480000\n",
              "std     2.525094  25.286887\n",
              "min     1.100000  17.000000\n",
              "25%     2.700000  30.000000\n",
              "50%     4.800000  47.000000\n",
              "75%     7.400000  75.000000\n",
              "max     9.200000  95.000000"
            ]
          },
          "metadata": {
            "tags": []
          },
          "execution_count": 49
        }
      ]
    },
    {
      "cell_type": "code",
      "metadata": {
        "colab": {
          "base_uri": "https://localhost:8080/"
        },
        "id": "e0bbnOHdm4hH",
        "outputId": "053b5dd9-58f9-48c6-bc77-3e9ba16691d0"
      },
      "source": [
        "df.isnull().sum()# Checking nulll values in dataset"
      ],
      "execution_count": null,
      "outputs": [
        {
          "output_type": "execute_result",
          "data": {
            "text/plain": [
              "Hours     0\n",
              "Scores    0\n",
              "dtype: int64"
            ]
          },
          "metadata": {
            "tags": []
          },
          "execution_count": 50
        }
      ]
    },
    {
      "cell_type": "code",
      "metadata": {
        "colab": {
          "base_uri": "https://localhost:8080/"
        },
        "id": "zg-y2253mw3A",
        "outputId": "a5041452-99be-4d7f-a76a-31845b4dd2bc"
      },
      "source": [
        "df.info() # Basic info of dataset"
      ],
      "execution_count": null,
      "outputs": [
        {
          "output_type": "stream",
          "text": [
            "<class 'pandas.core.frame.DataFrame'>\n",
            "RangeIndex: 25 entries, 0 to 24\n",
            "Data columns (total 2 columns):\n",
            " #   Column  Non-Null Count  Dtype  \n",
            "---  ------  --------------  -----  \n",
            " 0   Hours   25 non-null     float64\n",
            " 1   Scores  25 non-null     int64  \n",
            "dtypes: float64(1), int64(1)\n",
            "memory usage: 528.0 bytes\n"
          ],
          "name": "stdout"
        }
      ]
    },
    {
      "cell_type": "markdown",
      "metadata": {
        "id": "xga_ALXun1Y3"
      },
      "source": [
        "Now spliting the data into dependent and independet variable"
      ]
    },
    {
      "cell_type": "code",
      "metadata": {
        "id": "y7dy2942nOk2"
      },
      "source": [
        "x=df.drop(columns=['Scores'])\n",
        "y=df['Scores']"
      ],
      "execution_count": null,
      "outputs": []
    },
    {
      "cell_type": "markdown",
      "metadata": {
        "id": "nAZtawYcn_wX"
      },
      "source": [
        "Now I am creating and object of Linear Regression"
      ]
    },
    {
      "cell_type": "code",
      "metadata": {
        "id": "SYtdxql-n_gc"
      },
      "source": [
        "model=LinearRegression()"
      ],
      "execution_count": null,
      "outputs": []
    },
    {
      "cell_type": "code",
      "metadata": {
        "colab": {
          "base_uri": "https://localhost:8080/"
        },
        "id": "WbsNgjq9td08",
        "outputId": "3e9b8fc5-2302-4e4f-f886-cfa1d04e210a"
      },
      "source": [
        "model.fit(x,y) # Using this two variables we can perform Linear Regression"
      ],
      "execution_count": null,
      "outputs": [
        {
          "output_type": "execute_result",
          "data": {
            "text/plain": [
              "LinearRegression(copy_X=True, fit_intercept=True, n_jobs=None, normalize=False)"
            ]
          },
          "metadata": {
            "tags": []
          },
          "execution_count": 59
        }
      ]
    },
    {
      "cell_type": "markdown",
      "metadata": {
        "id": "VNZnkOQ_uMTa"
      },
      "source": [
        "LinearRegression()\n",
        "Here I have converted 80% data into Training set and 20% data as Testing set."
      ]
    },
    {
      "cell_type": "code",
      "metadata": {
        "id": "4jMN1AI7u0O6"
      },
      "source": [
        "xtrain,xtest,ytrain,ytest=train_test_split(x,y,test_size=0.2,random_state=0)\n",
        "\n",
        "predict_y=model.predict(xtest)#Predict Score"
      ],
      "execution_count": null,
      "outputs": []
    },
    {
      "cell_type": "code",
      "metadata": {
        "colab": {
          "base_uri": "https://localhost:8080/"
        },
        "id": "OV6efPYhvIxW",
        "outputId": "3618cf9d-1685-4aa0-f37c-8d2f3319e67c"
      },
      "source": [
        "predicted_data = pd.DataFrame({'Actual':ytest,'Predicted':predict_y})\n",
        "print(predicted_data)"
      ],
      "execution_count": null,
      "outputs": [
        {
          "output_type": "stream",
          "text": [
            "    Actual  Predicted\n",
            "5       20  17.147378\n",
            "2       27  33.766244\n",
            "19      69  74.824618\n",
            "16      30  26.923182\n",
            "11      62  60.160913\n"
          ],
          "name": "stdout"
        }
      ]
    },
    {
      "cell_type": "code",
      "metadata": {
        "colab": {
          "base_uri": "https://localhost:8080/"
        },
        "id": "jNQRSJLBvtxm",
        "outputId": "afa6589b-183b-4966-8157-936600df9196"
      },
      "source": [
        "print('The Training Score of the model is: ',model.score(xtrain,ytrain))\n",
        "print('The testing score of the model is: ',model.score(xtest,ytest))"
      ],
      "execution_count": null,
      "outputs": [
        {
          "output_type": "stream",
          "text": [
            "The Training Score of the model is:  0.9512837351709387\n",
            "The testing score of the model is:  0.9491748734859172\n"
          ],
          "name": "stdout"
        }
      ]
    },
    {
      "cell_type": "markdown",
      "metadata": {
        "id": "rQ35IH9d_HYj"
      },
      "source": [
        "Now We will predict the score of student who is studying 9.25 hour"
      ]
    },
    {
      "cell_type": "code",
      "metadata": {
        "colab": {
          "base_uri": "https://localhost:8080/"
        },
        "id": "MgqnJJ2f6l-O",
        "outputId": "ee20bf41-3c0f-4b7b-eab5-d9855c02c8b0"
      },
      "source": [
        "hours=[[9.25]]\n",
        "predict = model.predict(hours)\n",
        "print('The no of Hours is: ',hours)\n",
        "print(\"The predicted Score for 9.25 hours is: \",predict)"
      ],
      "execution_count": null,
      "outputs": [
        {
          "output_type": "stream",
          "text": [
            "The no of Hours is:  [[9.25]]\n",
            "The predicted Score for 9.25 hours is:  [92.90985477]\n"
          ],
          "name": "stdout"
        }
      ]
    },
    {
      "cell_type": "markdown",
      "metadata": {
        "id": "M_7fWbRZ_ii3"
      },
      "source": [
        "**Conclusion:**\n",
        "\n",
        "I have successfully predicted that the student who study 9.25 hour will score 92.90 using Supervised Machine Learning."
      ]
    }
  ]
}